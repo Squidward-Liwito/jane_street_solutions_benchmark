{
 "cells": [
  {
   "cell_type": "markdown",
   "id": "10cb1725",
   "metadata": {
    "papermill": {
     "duration": 0.004507,
     "end_time": "2024-10-28T10:50:50.680870",
     "exception": false,
     "start_time": "2024-10-28T10:50:50.676363",
     "status": "completed"
    },
    "tags": []
   },
   "source": [
    "# Libraries"
   ]
  },
  {
   "cell_type": "code",
   "execution_count": 13,
   "id": "f62add46",
   "metadata": {
    "execution": {
     "iopub.execute_input": "2024-10-28T10:50:50.690409Z",
     "iopub.status.busy": "2024-10-28T10:50:50.689985Z",
     "iopub.status.idle": "2024-10-28T10:50:53.445438Z",
     "shell.execute_reply": "2024-10-28T10:50:53.444399Z"
    },
    "papermill": {
     "duration": 2.762986,
     "end_time": "2024-10-28T10:50:53.447975",
     "exception": false,
     "start_time": "2024-10-28T10:50:50.684989",
     "status": "completed"
    },
    "tags": []
   },
   "outputs": [],
   "source": [
    "import pandas as pd\n",
    "import polars as pl\n",
    "import numpy as np\n",
    "import gc\n",
    "from matplotlib import pyplot as plt\n",
    "import matplotlib.cm as cm\n",
    "from sklearn.model_selection import StratifiedGroupKFold"
   ]
  },
  {
   "cell_type": "markdown",
   "id": "d88bbf85",
   "metadata": {
    "papermill": {
     "duration": 0.00385,
     "end_time": "2024-10-28T10:50:53.456099",
     "exception": false,
     "start_time": "2024-10-28T10:50:53.452249",
     "status": "completed"
    },
    "tags": []
   },
   "source": [
    "# Configurations"
   ]
  },
  {
   "cell_type": "code",
   "execution_count": 21,
   "id": "95b20029",
   "metadata": {
    "execution": {
     "iopub.execute_input": "2024-10-28T10:50:53.465769Z",
     "iopub.status.busy": "2024-10-28T10:50:53.465156Z",
     "iopub.status.idle": "2024-10-28T10:50:53.471976Z",
     "shell.execute_reply": "2024-10-28T10:50:53.470759Z"
    },
    "papermill": {
     "duration": 0.014164,
     "end_time": "2024-10-28T10:50:53.474208",
     "exception": false,
     "start_time": "2024-10-28T10:50:53.460044",
     "status": "completed"
    },
    "tags": []
   },
   "outputs": [],
   "source": [
    "class CONFIG:\n",
    "    target_col = \"responder_6\"\n",
    "    lag_cols_original = [\"date_id\", \"symbol_id\"] + [f\"responder_{idx}\" for idx in range(9)]\n",
    "    lag_cols_rename = { f\"responder_{idx}\" : f\"responder_{idx}_lag_1\" for idx in range(9)}\n",
    "    valid_ratio = 0.05\n",
    "    start_dt = 1100\n",
    "# 设置数据路径 ( corrected the path to include \"_Dataset\" )\n",
    "DATA_PATH = \"../jane-street-real-time-market-data-forecasting_Dataset\""
   ]
  },
  {
   "cell_type": "markdown",
   "id": "ac3b364d",
   "metadata": {
    "papermill": {
     "duration": 0.003748,
     "end_time": "2024-10-28T10:50:53.481903",
     "exception": false,
     "start_time": "2024-10-28T10:50:53.478155",
     "status": "completed"
    },
    "tags": []
   },
   "source": [
    "# Load training data"
   ]
  },
  {
   "cell_type": "code",
   "execution_count": 22,
   "id": "107eaeea",
   "metadata": {
    "execution": {
     "iopub.execute_input": "2024-10-28T10:50:53.491659Z",
     "iopub.status.busy": "2024-10-28T10:50:53.491243Z",
     "iopub.status.idle": "2024-10-28T10:50:53.528349Z",
     "shell.execute_reply": "2024-10-28T10:50:53.527277Z"
    },
    "papermill": {
     "duration": 0.04486,
     "end_time": "2024-10-28T10:50:53.530904",
     "exception": false,
     "start_time": "2024-10-28T10:50:53.486044",
     "status": "completed"
    },
    "tags": []
   },
   "outputs": [],
   "source": [
    "# Use last 2 parquets\n",
    "train = pl.scan_parquet(\n",
    "    f\"{DATA_PATH}/train.parquet\"\n",
    ").select(\n",
    "    pl.int_range(pl.len(), dtype=pl.UInt32).alias(\"id\"),\n",
    "    pl.all(),\n",
    ").with_columns(\n",
    "    (pl.col(CONFIG.target_col)*2).cast(pl.Int32).alias(\"label\"),\n",
    ").filter(\n",
    "    pl.col(\"date_id\").gt(CONFIG.start_dt)\n",
    ")"
   ]
  },
  {
   "cell_type": "markdown",
   "id": "5d6893d5",
   "metadata": {
    "papermill": {
     "duration": 0.003601,
     "end_time": "2024-10-28T10:50:53.538424",
     "exception": false,
     "start_time": "2024-10-28T10:50:53.534823",
     "status": "completed"
    },
    "tags": []
   },
   "source": [
    "# Create Lags data from training data"
   ]
  },
  {
   "cell_type": "code",
   "execution_count": 23,
   "id": "4888f45b",
   "metadata": {
    "execution": {
     "iopub.execute_input": "2024-10-28T10:50:53.547969Z",
     "iopub.status.busy": "2024-10-28T10:50:53.547541Z",
     "iopub.status.idle": "2024-10-28T10:50:53.893220Z",
     "shell.execute_reply": "2024-10-28T10:50:53.892075Z"
    },
    "papermill": {
     "duration": 0.353197,
     "end_time": "2024-10-28T10:50:53.895572",
     "exception": false,
     "start_time": "2024-10-28T10:50:53.542375",
     "status": "completed"
    },
    "tags": []
   },
   "outputs": [
    {
     "data": {
      "text/html": [
       "<h4>NAIVE QUERY PLAN</h4><p>run <b>LazyFrame.show_graph()</b> to see the optimized version</p><?xml version=\"1.0\" encoding=\"UTF-8\" standalone=\"no\"?>\n",
       "<!DOCTYPE svg PUBLIC \"-//W3C//DTD SVG 1.1//EN\"\n",
       " \"http://www.w3.org/Graphics/SVG/1.1/DTD/svg11.dtd\">\n",
       "<!-- Generated by graphviz version 13.1.2 (0)\n",
       " -->\n",
       "<!-- Title: polars_query Pages: 1 -->\n",
       "<svg width=\"2507pt\" height=\"578pt\"\n",
       " viewBox=\"0.00 0.00 2507.00 578.00\" xmlns=\"http://www.w3.org/2000/svg\" xmlns:xlink=\"http://www.w3.org/1999/xlink\">\n",
       "<g id=\"graph0\" class=\"graph\" transform=\"scale(1 1) rotate(0) translate(4 574.25)\">\n",
       "<title>polars_query</title>\n",
       "<polygon fill=\"white\" stroke=\"none\" points=\"-4,4 -4,-574.25 2503.25,-574.25 2503.25,4 -4,4\"/>\n",
       "<!-- p2 -->\n",
       "<g id=\"node1\" class=\"node\">\n",
       "<title>p2</title>\n",
       "<polygon fill=\"none\" stroke=\"black\" points=\"1418.5,-474.5 1080.75,-474.5 1080.75,-438.5 1418.5,-438.5 1418.5,-474.5\"/>\n",
       "<text xml:space=\"preserve\" text-anchor=\"middle\" x=\"1249.62\" y=\"-451.82\" font-family=\"Monospace\" font-size=\"14.00\">WITH COLUMNS [[(col(&quot;date_id&quot;)) + (1)]]</text>\n",
       "</g>\n",
       "<!-- p1 -->\n",
       "<g id=\"node2\" class=\"node\">\n",
       "<title>p1</title>\n",
       "<polygon fill=\"none\" stroke=\"black\" points=\"2499.25,-570.25 0,-570.25 0,-510.5 2499.25,-510.5 2499.25,-570.25\"/>\n",
       "<text xml:space=\"preserve\" text-anchor=\"middle\" x=\"1249.62\" y=\"-552.95\" font-family=\"Monospace\" font-size=\"14.00\">AGG [col(&quot;responder_0_lag_1&quot;).last(), col(&quot;responder_1_lag_1&quot;).last(), col(&quot;responder_2_lag_1&quot;).last(), col(&quot;responder_3_lag_1&quot;).last(), col(&quot;responder_4_lag_1&quot;).last(), col(&quot;responder_5_lag_1&quot;).last(), col(&quot;responder_6_lag_1&quot;).last(), col(&quot;responder_7_lag_1&quot;).last(), col(&quot;responder_8_lag_1&quot;).last()]</text>\n",
       "<text xml:space=\"preserve\" text-anchor=\"middle\" x=\"1249.62\" y=\"-535.7\" font-family=\"Monospace\" font-size=\"14.00\">BY</text>\n",
       "<text xml:space=\"preserve\" text-anchor=\"middle\" x=\"1249.62\" y=\"-518.45\" font-family=\"Monospace\" font-size=\"14.00\">[col(&quot;date_id&quot;), col(&quot;symbol_id&quot;)]</text>\n",
       "</g>\n",
       "<!-- p2&#45;&gt;p1 -->\n",
       "<g id=\"edge1\" class=\"edge\">\n",
       "<title>p2&#45;&gt;p1</title>\n",
       "<path fill=\"none\" stroke=\"black\" d=\"M1249.62,-474.86C1249.62,-481.9 1249.62,-490.34 1249.62,-498.77\"/>\n",
       "<polygon fill=\"black\" stroke=\"black\" points=\"1246.13,-498.6 1249.63,-508.6 1253.13,-498.6 1246.13,-498.6\"/>\n",
       "</g>\n",
       "<!-- p3 -->\n",
       "<g id=\"node3\" class=\"node\">\n",
       "<title>p3</title>\n",
       "<polygon fill=\"none\" stroke=\"black\" points=\"1286.5,-402.5 1212.75,-402.5 1212.75,-366.5 1286.5,-366.5 1286.5,-402.5\"/>\n",
       "<text xml:space=\"preserve\" text-anchor=\"middle\" x=\"1249.62\" y=\"-379.82\" font-family=\"Monospace\" font-size=\"14.00\">π 11/11</text>\n",
       "</g>\n",
       "<!-- p3&#45;&gt;p2 -->\n",
       "<g id=\"edge2\" class=\"edge\">\n",
       "<title>p3&#45;&gt;p2</title>\n",
       "<path fill=\"none\" stroke=\"black\" d=\"M1249.62,-402.8C1249.62,-410.09 1249.62,-418.77 1249.62,-426.96\"/>\n",
       "<polygon fill=\"black\" stroke=\"black\" points=\"1246.13,-426.88 1249.63,-436.88 1253.13,-426.88 1246.13,-426.88\"/>\n",
       "</g>\n",
       "<!-- p4 -->\n",
       "<g id=\"node4\" class=\"node\">\n",
       "<title>p4</title>\n",
       "<polygon fill=\"none\" stroke=\"black\" points=\"1286.5,-330.5 1212.75,-330.5 1212.75,-294.5 1286.5,-294.5 1286.5,-330.5\"/>\n",
       "<text xml:space=\"preserve\" text-anchor=\"middle\" x=\"1249.62\" y=\"-307.82\" font-family=\"Monospace\" font-size=\"14.00\">π 11/11</text>\n",
       "</g>\n",
       "<!-- p4&#45;&gt;p3 -->\n",
       "<g id=\"edge3\" class=\"edge\">\n",
       "<title>p4&#45;&gt;p3</title>\n",
       "<path fill=\"none\" stroke=\"black\" d=\"M1249.62,-330.8C1249.62,-338.09 1249.62,-346.77 1249.62,-354.96\"/>\n",
       "<polygon fill=\"black\" stroke=\"black\" points=\"1246.13,-354.88 1249.63,-364.88 1253.13,-354.88 1246.13,-354.88\"/>\n",
       "</g>\n",
       "<!-- p5 -->\n",
       "<g id=\"node5\" class=\"node\">\n",
       "<title>p5</title>\n",
       "<polygon fill=\"none\" stroke=\"black\" points=\"1410.25,-258.5 1089,-258.5 1089,-222.5 1410.25,-222.5 1410.25,-258.5\"/>\n",
       "<text xml:space=\"preserve\" text-anchor=\"middle\" x=\"1249.62\" y=\"-235.82\" font-family=\"Monospace\" font-size=\"14.00\">FILTER BY [(col(&quot;date_id&quot;)) &gt; (1100)]</text>\n",
       "</g>\n",
       "<!-- p5&#45;&gt;p4 -->\n",
       "<g id=\"edge4\" class=\"edge\">\n",
       "<title>p5&#45;&gt;p4</title>\n",
       "<path fill=\"none\" stroke=\"black\" d=\"M1249.62,-258.8C1249.62,-266.09 1249.62,-274.77 1249.62,-282.96\"/>\n",
       "<polygon fill=\"black\" stroke=\"black\" points=\"1246.13,-282.88 1249.63,-292.88 1253.13,-282.88 1246.13,-282.88\"/>\n",
       "</g>\n",
       "<!-- p6 -->\n",
       "<g id=\"node6\" class=\"node\">\n",
       "<title>p6</title>\n",
       "<polygon fill=\"none\" stroke=\"black\" points=\"1583.5,-186.5 915.75,-186.5 915.75,-150.5 1583.5,-150.5 1583.5,-186.5\"/>\n",
       "<text xml:space=\"preserve\" text-anchor=\"middle\" x=\"1249.62\" y=\"-163.82\" font-family=\"Monospace\" font-size=\"14.00\">WITH COLUMNS [[(col(&quot;responder_6&quot;)) * (2.0)].strict_cast(Int32).alias(&quot;label&quot;)]</text>\n",
       "</g>\n",
       "<!-- p6&#45;&gt;p5 -->\n",
       "<g id=\"edge5\" class=\"edge\">\n",
       "<title>p6&#45;&gt;p5</title>\n",
       "<path fill=\"none\" stroke=\"black\" d=\"M1249.62,-186.8C1249.62,-194.09 1249.62,-202.77 1249.62,-210.96\"/>\n",
       "<polygon fill=\"black\" stroke=\"black\" points=\"1246.13,-210.88 1249.63,-220.88 1253.13,-210.88 1246.13,-210.88\"/>\n",
       "</g>\n",
       "<!-- p7 -->\n",
       "<g id=\"node7\" class=\"node\">\n",
       "<title>p7</title>\n",
       "<polygon fill=\"none\" stroke=\"black\" points=\"1286.5,-114.5 1212.75,-114.5 1212.75,-78.5 1286.5,-78.5 1286.5,-114.5\"/>\n",
       "<text xml:space=\"preserve\" text-anchor=\"middle\" x=\"1249.62\" y=\"-91.83\" font-family=\"Monospace\" font-size=\"14.00\">π 94/94</text>\n",
       "</g>\n",
       "<!-- p7&#45;&gt;p6 -->\n",
       "<g id=\"edge6\" class=\"edge\">\n",
       "<title>p7&#45;&gt;p6</title>\n",
       "<path fill=\"none\" stroke=\"black\" d=\"M1249.62,-114.8C1249.62,-122.09 1249.62,-130.77 1249.62,-138.96\"/>\n",
       "<polygon fill=\"black\" stroke=\"black\" points=\"1246.13,-138.88 1249.63,-148.88 1253.13,-138.88 1246.13,-138.88\"/>\n",
       "</g>\n",
       "<!-- p8 -->\n",
       "<g id=\"node8\" class=\"node\">\n",
       "<title>p8</title>\n",
       "<polygon fill=\"none\" stroke=\"black\" points=\"1818.62,-42.5 680.62,-42.5 680.62,0 1818.62,0 1818.62,-42.5\"/>\n",
       "<text xml:space=\"preserve\" text-anchor=\"middle\" x=\"1249.62\" y=\"-25.2\" font-family=\"Monospace\" font-size=\"14.00\">Parquet SCAN [../jane&#45;street&#45;real&#45;time&#45;market&#45;data&#45;forecasting_Dataset/train.parquet/partition_id=0/part&#45;0.parquet, ... 9 other sources]</text>\n",
       "<text xml:space=\"preserve\" text-anchor=\"middle\" x=\"1249.62\" y=\"-7.95\" font-family=\"Monospace\" font-size=\"14.00\">π */93;</text>\n",
       "</g>\n",
       "<!-- p8&#45;&gt;p7 -->\n",
       "<g id=\"edge7\" class=\"edge\">\n",
       "<title>p8&#45;&gt;p7</title>\n",
       "<path fill=\"none\" stroke=\"black\" d=\"M1249.62,-42.65C1249.62,-50.16 1249.62,-58.81 1249.62,-66.91\"/>\n",
       "<polygon fill=\"black\" stroke=\"black\" points=\"1246.13,-66.67 1249.63,-76.67 1253.13,-66.67 1246.13,-66.67\"/>\n",
       "</g>\n",
       "</g>\n",
       "</svg>\n"
      ],
      "text/plain": [
       "<LazyFrame at 0x17513BCF0>"
      ]
     },
     "execution_count": 23,
     "metadata": {},
     "output_type": "execute_result"
    }
   ],
   "source": [
    "lags = train.select(pl.col(CONFIG.lag_cols_original))\n",
    "lags = lags.rename(CONFIG.lag_cols_rename)\n",
    "lags = lags.with_columns(\n",
    "    date_id = pl.col('date_id') + 1,  # lagged by 1 day\n",
    "    )\n",
    "lags = lags.group_by([\"date_id\", \"symbol_id\"], maintain_order=True).last()  # pick up last record of previous date\n",
    "lags"
   ]
  },
  {
   "cell_type": "markdown",
   "id": "2114e63c",
   "metadata": {
    "papermill": {
     "duration": 0.003961,
     "end_time": "2024-10-28T10:50:53.904002",
     "exception": false,
     "start_time": "2024-10-28T10:50:53.900041",
     "status": "completed"
    },
    "tags": []
   },
   "source": [
    "# Merge training data and lags data"
   ]
  },
  {
   "cell_type": "code",
   "execution_count": 24,
   "id": "c9be8650",
   "metadata": {
    "execution": {
     "iopub.execute_input": "2024-10-28T10:50:53.915910Z",
     "iopub.status.busy": "2024-10-28T10:50:53.915156Z",
     "iopub.status.idle": "2024-10-28T10:50:53.945165Z",
     "shell.execute_reply": "2024-10-28T10:50:53.944004Z"
    },
    "papermill": {
     "duration": 0.038525,
     "end_time": "2024-10-28T10:50:53.947807",
     "exception": false,
     "start_time": "2024-10-28T10:50:53.909282",
     "status": "completed"
    },
    "tags": []
   },
   "outputs": [
    {
     "data": {
      "text/html": [
       "<h4>NAIVE QUERY PLAN</h4><p>run <b>LazyFrame.show_graph()</b> to see the optimized version</p><?xml version=\"1.0\" encoding=\"UTF-8\" standalone=\"no\"?>\n",
       "<!DOCTYPE svg PUBLIC \"-//W3C//DTD SVG 1.1//EN\"\n",
       " \"http://www.w3.org/Graphics/SVG/1.1/DTD/svg11.dtd\">\n",
       "<!-- Generated by graphviz version 13.1.2 (0)\n",
       " -->\n",
       "<!-- Title: polars_query Pages: 1 -->\n",
       "<svg width=\"3255pt\" height=\"681pt\"\n",
       " viewBox=\"0.00 0.00 3255.00 681.00\" xmlns=\"http://www.w3.org/2000/svg\" xmlns:xlink=\"http://www.w3.org/1999/xlink\">\n",
       "<g id=\"graph0\" class=\"graph\" transform=\"scale(1 1) rotate(0) translate(4 676.5)\">\n",
       "<title>polars_query</title>\n",
       "<polygon fill=\"white\" stroke=\"none\" points=\"-4,4 -4,-676.5 3250.62,-676.5 3250.62,4 -4,4\"/>\n",
       "<!-- p2 -->\n",
       "<g id=\"node1\" class=\"node\">\n",
       "<title>p2</title>\n",
       "<polygon fill=\"none\" stroke=\"black\" points=\"2838.25,-564.88 2517,-564.88 2517,-528.88 2838.25,-528.88 2838.25,-564.88\"/>\n",
       "<text xml:space=\"preserve\" text-anchor=\"middle\" x=\"2677.62\" y=\"-542.2\" font-family=\"Monospace\" font-size=\"14.00\">FILTER BY [(col(&quot;date_id&quot;)) &gt; (1100)]</text>\n",
       "</g>\n",
       "<!-- p1 -->\n",
       "<g id=\"node2\" class=\"node\">\n",
       "<title>p1</title>\n",
       "<polygon fill=\"none\" stroke=\"black\" points=\"2140.75,-672.5 1786.5,-672.5 1786.5,-612.75 2140.75,-612.75 2140.75,-672.5\"/>\n",
       "<text xml:space=\"preserve\" text-anchor=\"middle\" x=\"1963.62\" y=\"-655.2\" font-family=\"Monospace\" font-size=\"14.00\">JOIN LEFT</text>\n",
       "<text xml:space=\"preserve\" text-anchor=\"middle\" x=\"1963.62\" y=\"-637.95\" font-family=\"Monospace\" font-size=\"14.00\">left: [col(&quot;date_id&quot;), col(&quot;symbol_id&quot;)];</text>\n",
       "<text xml:space=\"preserve\" text-anchor=\"middle\" x=\"1963.62\" y=\"-620.7\" font-family=\"Monospace\" font-size=\"14.00\">right: [col(&quot;date_id&quot;), col(&quot;symbol_id&quot;)]</text>\n",
       "</g>\n",
       "<!-- p2&#45;&gt;p1 -->\n",
       "<g id=\"edge1\" class=\"edge\">\n",
       "<title>p2&#45;&gt;p1</title>\n",
       "<path fill=\"none\" stroke=\"black\" d=\"M2580.35,-565.36C2556.9,-569.34 2531.9,-573.38 2508.62,-576.75 2390.46,-593.87 2257.39,-609.77 2152.32,-621.55\"/>\n",
       "<polygon fill=\"black\" stroke=\"black\" points=\"2152.01,-618.06 2142.46,-622.65 2152.78,-625.02 2152.01,-618.06\"/>\n",
       "</g>\n",
       "<!-- p3 -->\n",
       "<g id=\"node3\" class=\"node\">\n",
       "<title>p3</title>\n",
       "<polygon fill=\"none\" stroke=\"black\" points=\"3011.5,-481 2343.75,-481 2343.75,-445 3011.5,-445 3011.5,-481\"/>\n",
       "<text xml:space=\"preserve\" text-anchor=\"middle\" x=\"2677.62\" y=\"-458.32\" font-family=\"Monospace\" font-size=\"14.00\">WITH COLUMNS [[(col(&quot;responder_6&quot;)) * (2.0)].strict_cast(Int32).alias(&quot;label&quot;)]</text>\n",
       "</g>\n",
       "<!-- p3&#45;&gt;p2 -->\n",
       "<g id=\"edge2\" class=\"edge\">\n",
       "<title>p3&#45;&gt;p2</title>\n",
       "<path fill=\"none\" stroke=\"black\" d=\"M2677.62,-481.36C2677.62,-491.78 2677.62,-505.3 2677.62,-517.26\"/>\n",
       "<polygon fill=\"black\" stroke=\"black\" points=\"2674.13,-517.02 2677.63,-527.02 2681.13,-517.02 2674.13,-517.02\"/>\n",
       "</g>\n",
       "<!-- p4 -->\n",
       "<g id=\"node4\" class=\"node\">\n",
       "<title>p4</title>\n",
       "<polygon fill=\"none\" stroke=\"black\" points=\"2714.5,-409 2640.75,-409 2640.75,-373 2714.5,-373 2714.5,-409\"/>\n",
       "<text xml:space=\"preserve\" text-anchor=\"middle\" x=\"2677.62\" y=\"-386.32\" font-family=\"Monospace\" font-size=\"14.00\">π 94/94</text>\n",
       "</g>\n",
       "<!-- p4&#45;&gt;p3 -->\n",
       "<g id=\"edge3\" class=\"edge\">\n",
       "<title>p4&#45;&gt;p3</title>\n",
       "<path fill=\"none\" stroke=\"black\" d=\"M2677.62,-409.3C2677.62,-416.59 2677.62,-425.27 2677.62,-433.46\"/>\n",
       "<polygon fill=\"black\" stroke=\"black\" points=\"2674.13,-433.38 2677.63,-443.38 2681.13,-433.38 2674.13,-433.38\"/>\n",
       "</g>\n",
       "<!-- p5 -->\n",
       "<g id=\"node5\" class=\"node\">\n",
       "<title>p5</title>\n",
       "<polygon fill=\"none\" stroke=\"black\" points=\"3246.62,-337 2108.62,-337 2108.62,-294.5 3246.62,-294.5 3246.62,-337\"/>\n",
       "<text xml:space=\"preserve\" text-anchor=\"middle\" x=\"2677.62\" y=\"-319.7\" font-family=\"Monospace\" font-size=\"14.00\">Parquet SCAN [../jane&#45;street&#45;real&#45;time&#45;market&#45;data&#45;forecasting_Dataset/train.parquet/partition_id=0/part&#45;0.parquet, ... 9 other sources]</text>\n",
       "<text xml:space=\"preserve\" text-anchor=\"middle\" x=\"2677.62\" y=\"-302.45\" font-family=\"Monospace\" font-size=\"14.00\">π */93;</text>\n",
       "</g>\n",
       "<!-- p5&#45;&gt;p4 -->\n",
       "<g id=\"edge4\" class=\"edge\">\n",
       "<title>p5&#45;&gt;p4</title>\n",
       "<path fill=\"none\" stroke=\"black\" d=\"M2677.62,-337.15C2677.62,-344.66 2677.62,-353.31 2677.62,-361.41\"/>\n",
       "<polygon fill=\"black\" stroke=\"black\" points=\"2674.13,-361.17 2677.63,-371.17 2681.13,-361.17 2674.13,-361.17\"/>\n",
       "</g>\n",
       "<!-- p6 -->\n",
       "<g id=\"node6\" class=\"node\">\n",
       "<title>p6</title>\n",
       "<polygon fill=\"none\" stroke=\"black\" points=\"2499.25,-576.75 0,-576.75 0,-517 2499.25,-517 2499.25,-576.75\"/>\n",
       "<text xml:space=\"preserve\" text-anchor=\"middle\" x=\"1249.62\" y=\"-559.45\" font-family=\"Monospace\" font-size=\"14.00\">AGG [col(&quot;responder_0_lag_1&quot;).last(), col(&quot;responder_1_lag_1&quot;).last(), col(&quot;responder_2_lag_1&quot;).last(), col(&quot;responder_3_lag_1&quot;).last(), col(&quot;responder_4_lag_1&quot;).last(), col(&quot;responder_5_lag_1&quot;).last(), col(&quot;responder_6_lag_1&quot;).last(), col(&quot;responder_7_lag_1&quot;).last(), col(&quot;responder_8_lag_1&quot;).last()]</text>\n",
       "<text xml:space=\"preserve\" text-anchor=\"middle\" x=\"1249.62\" y=\"-542.2\" font-family=\"Monospace\" font-size=\"14.00\">BY</text>\n",
       "<text xml:space=\"preserve\" text-anchor=\"middle\" x=\"1249.62\" y=\"-524.95\" font-family=\"Monospace\" font-size=\"14.00\">[col(&quot;date_id&quot;), col(&quot;symbol_id&quot;)]</text>\n",
       "</g>\n",
       "<!-- p6&#45;&gt;p1 -->\n",
       "<g id=\"edge5\" class=\"edge\">\n",
       "<title>p6&#45;&gt;p1</title>\n",
       "<path fill=\"none\" stroke=\"black\" d=\"M1473.09,-577.22C1569.99,-589.94 1682.22,-604.68 1774.86,-616.84\"/>\n",
       "<polygon fill=\"black\" stroke=\"black\" points=\"1774.18,-620.28 1784.56,-618.11 1775.1,-613.34 1774.18,-620.28\"/>\n",
       "</g>\n",
       "<!-- p7 -->\n",
       "<g id=\"node7\" class=\"node\">\n",
       "<title>p7</title>\n",
       "<polygon fill=\"none\" stroke=\"black\" points=\"1418.5,-481 1080.75,-481 1080.75,-445 1418.5,-445 1418.5,-481\"/>\n",
       "<text xml:space=\"preserve\" text-anchor=\"middle\" x=\"1249.62\" y=\"-458.32\" font-family=\"Monospace\" font-size=\"14.00\">WITH COLUMNS [[(col(&quot;date_id&quot;)) + (1)]]</text>\n",
       "</g>\n",
       "<!-- p7&#45;&gt;p6 -->\n",
       "<g id=\"edge6\" class=\"edge\">\n",
       "<title>p7&#45;&gt;p6</title>\n",
       "<path fill=\"none\" stroke=\"black\" d=\"M1249.62,-481.36C1249.62,-488.4 1249.62,-496.84 1249.62,-505.27\"/>\n",
       "<polygon fill=\"black\" stroke=\"black\" points=\"1246.13,-505.1 1249.63,-515.1 1253.13,-505.1 1246.13,-505.1\"/>\n",
       "</g>\n",
       "<!-- p8 -->\n",
       "<g id=\"node8\" class=\"node\">\n",
       "<title>p8</title>\n",
       "<polygon fill=\"none\" stroke=\"black\" points=\"1286.5,-409 1212.75,-409 1212.75,-373 1286.5,-373 1286.5,-409\"/>\n",
       "<text xml:space=\"preserve\" text-anchor=\"middle\" x=\"1249.62\" y=\"-386.32\" font-family=\"Monospace\" font-size=\"14.00\">π 11/11</text>\n",
       "</g>\n",
       "<!-- p8&#45;&gt;p7 -->\n",
       "<g id=\"edge7\" class=\"edge\">\n",
       "<title>p8&#45;&gt;p7</title>\n",
       "<path fill=\"none\" stroke=\"black\" d=\"M1249.62,-409.3C1249.62,-416.59 1249.62,-425.27 1249.62,-433.46\"/>\n",
       "<polygon fill=\"black\" stroke=\"black\" points=\"1246.13,-433.38 1249.63,-443.38 1253.13,-433.38 1246.13,-433.38\"/>\n",
       "</g>\n",
       "<!-- p9 -->\n",
       "<g id=\"node9\" class=\"node\">\n",
       "<title>p9</title>\n",
       "<polygon fill=\"none\" stroke=\"black\" points=\"1286.5,-333.75 1212.75,-333.75 1212.75,-297.75 1286.5,-297.75 1286.5,-333.75\"/>\n",
       "<text xml:space=\"preserve\" text-anchor=\"middle\" x=\"1249.62\" y=\"-311.07\" font-family=\"Monospace\" font-size=\"14.00\">π 11/11</text>\n",
       "</g>\n",
       "<!-- p9&#45;&gt;p8 -->\n",
       "<g id=\"edge8\" class=\"edge\">\n",
       "<title>p9&#45;&gt;p8</title>\n",
       "<path fill=\"none\" stroke=\"black\" d=\"M1249.62,-334.11C1249.62,-342.17 1249.62,-351.97 1249.62,-361.1\"/>\n",
       "<polygon fill=\"black\" stroke=\"black\" points=\"1246.13,-361 1249.63,-371 1253.13,-361 1246.13,-361\"/>\n",
       "</g>\n",
       "<!-- p10 -->\n",
       "<g id=\"node10\" class=\"node\">\n",
       "<title>p10</title>\n",
       "<polygon fill=\"none\" stroke=\"black\" points=\"1410.25,-258.5 1089,-258.5 1089,-222.5 1410.25,-222.5 1410.25,-258.5\"/>\n",
       "<text xml:space=\"preserve\" text-anchor=\"middle\" x=\"1249.62\" y=\"-235.82\" font-family=\"Monospace\" font-size=\"14.00\">FILTER BY [(col(&quot;date_id&quot;)) &gt; (1100)]</text>\n",
       "</g>\n",
       "<!-- p10&#45;&gt;p9 -->\n",
       "<g id=\"edge9\" class=\"edge\">\n",
       "<title>p10&#45;&gt;p9</title>\n",
       "<path fill=\"none\" stroke=\"black\" d=\"M1249.62,-258.86C1249.62,-266.92 1249.62,-276.72 1249.62,-285.85\"/>\n",
       "<polygon fill=\"black\" stroke=\"black\" points=\"1246.13,-285.75 1249.63,-295.75 1253.13,-285.75 1246.13,-285.75\"/>\n",
       "</g>\n",
       "<!-- p11 -->\n",
       "<g id=\"node11\" class=\"node\">\n",
       "<title>p11</title>\n",
       "<polygon fill=\"none\" stroke=\"black\" points=\"1583.5,-186.5 915.75,-186.5 915.75,-150.5 1583.5,-150.5 1583.5,-186.5\"/>\n",
       "<text xml:space=\"preserve\" text-anchor=\"middle\" x=\"1249.62\" y=\"-163.82\" font-family=\"Monospace\" font-size=\"14.00\">WITH COLUMNS [[(col(&quot;responder_6&quot;)) * (2.0)].strict_cast(Int32).alias(&quot;label&quot;)]</text>\n",
       "</g>\n",
       "<!-- p11&#45;&gt;p10 -->\n",
       "<g id=\"edge10\" class=\"edge\">\n",
       "<title>p11&#45;&gt;p10</title>\n",
       "<path fill=\"none\" stroke=\"black\" d=\"M1249.62,-186.8C1249.62,-194.09 1249.62,-202.77 1249.62,-210.96\"/>\n",
       "<polygon fill=\"black\" stroke=\"black\" points=\"1246.13,-210.88 1249.63,-220.88 1253.13,-210.88 1246.13,-210.88\"/>\n",
       "</g>\n",
       "<!-- p12 -->\n",
       "<g id=\"node12\" class=\"node\">\n",
       "<title>p12</title>\n",
       "<polygon fill=\"none\" stroke=\"black\" points=\"1286.5,-114.5 1212.75,-114.5 1212.75,-78.5 1286.5,-78.5 1286.5,-114.5\"/>\n",
       "<text xml:space=\"preserve\" text-anchor=\"middle\" x=\"1249.62\" y=\"-91.83\" font-family=\"Monospace\" font-size=\"14.00\">π 94/94</text>\n",
       "</g>\n",
       "<!-- p12&#45;&gt;p11 -->\n",
       "<g id=\"edge11\" class=\"edge\">\n",
       "<title>p12&#45;&gt;p11</title>\n",
       "<path fill=\"none\" stroke=\"black\" d=\"M1249.62,-114.8C1249.62,-122.09 1249.62,-130.77 1249.62,-138.96\"/>\n",
       "<polygon fill=\"black\" stroke=\"black\" points=\"1246.13,-138.88 1249.63,-148.88 1253.13,-138.88 1246.13,-138.88\"/>\n",
       "</g>\n",
       "<!-- p13 -->\n",
       "<g id=\"node13\" class=\"node\">\n",
       "<title>p13</title>\n",
       "<polygon fill=\"none\" stroke=\"black\" points=\"1818.62,-42.5 680.62,-42.5 680.62,0 1818.62,0 1818.62,-42.5\"/>\n",
       "<text xml:space=\"preserve\" text-anchor=\"middle\" x=\"1249.62\" y=\"-25.2\" font-family=\"Monospace\" font-size=\"14.00\">Parquet SCAN [../jane&#45;street&#45;real&#45;time&#45;market&#45;data&#45;forecasting_Dataset/train.parquet/partition_id=0/part&#45;0.parquet, ... 9 other sources]</text>\n",
       "<text xml:space=\"preserve\" text-anchor=\"middle\" x=\"1249.62\" y=\"-7.95\" font-family=\"Monospace\" font-size=\"14.00\">π */93;</text>\n",
       "</g>\n",
       "<!-- p13&#45;&gt;p12 -->\n",
       "<g id=\"edge12\" class=\"edge\">\n",
       "<title>p13&#45;&gt;p12</title>\n",
       "<path fill=\"none\" stroke=\"black\" d=\"M1249.62,-42.65C1249.62,-50.16 1249.62,-58.81 1249.62,-66.91\"/>\n",
       "<polygon fill=\"black\" stroke=\"black\" points=\"1246.13,-66.67 1249.63,-76.67 1253.13,-66.67 1246.13,-66.67\"/>\n",
       "</g>\n",
       "</g>\n",
       "</svg>\n"
      ],
      "text/plain": [
       "<LazyFrame at 0x15FD085F0>"
      ]
     },
     "execution_count": 24,
     "metadata": {},
     "output_type": "execute_result"
    }
   ],
   "source": [
    "train = train.join(lags, on=[\"date_id\", \"symbol_id\"],  how=\"left\")\n",
    "train\n"
   ]
  },
  {
   "cell_type": "markdown",
   "id": "1f54a3c1",
   "metadata": {
    "papermill": {
     "duration": 0.004368,
     "end_time": "2024-10-28T10:50:53.957063",
     "exception": false,
     "start_time": "2024-10-28T10:50:53.952695",
     "status": "completed"
    },
    "tags": []
   },
   "source": [
    "# Split training data and validation data"
   ]
  },
  {
   "cell_type": "code",
   "execution_count": 28,
   "id": "c37b5d81",
   "metadata": {
    "execution": {
     "iopub.execute_input": "2024-10-28T10:50:53.968024Z",
     "iopub.status.busy": "2024-10-28T10:50:53.967611Z",
     "iopub.status.idle": "2024-10-28T10:50:57.287742Z",
     "shell.execute_reply": "2024-10-28T10:50:57.286619Z"
    },
    "papermill": {
     "duration": 3.328535,
     "end_time": "2024-10-28T10:50:57.290290",
     "exception": false,
     "start_time": "2024-10-28T10:50:53.961755",
     "status": "completed"
    },
    "tags": []
   },
   "outputs": [
    {
     "name": "stdout",
     "output_type": "stream",
     "text": [
      "\n",
      " len_train = 22104280\n",
      "\n",
      " len_ofl_mdl = 20999066\n",
      "\n",
      "---> Last offline train date = 1669\n",
      "\n",
      "\n",
      "---> Last offline validation date = 1698\n",
      "\n"
     ]
    }
   ],
   "source": [
    "len_train   = train.select(pl.col(\"date_id\")).collect().shape[0]\n",
    "valid_records = int(len_train * CONFIG.valid_ratio)\n",
    "len_ofl_mdl = len_train - valid_records\n",
    "last_tr_dt  = train.select(pl.col(\"date_id\")).collect().row(len_ofl_mdl)[0]\n",
    "last_vld_dt = train.select(pl.col(\"date_id\")).collect().row(len_train-1)[0]\n",
    "print(f\"\\n len_train = {len_train}\")\n",
    "print(f\"\\n len_ofl_mdl = {len_ofl_mdl}\")\n",
    "print(f\"\\n---> Last offline train date = {last_tr_dt}\\n\")\n",
    "print(f\"\\n---> Last offline validation date = {last_vld_dt}\\n\")\n",
    "training_data = train.filter(pl.col(\"date_id\").le(last_tr_dt))\n",
    "validation_data   = train.filter(pl.col(\"date_id\").gt(last_tr_dt))"
   ]
  },
  {
   "cell_type": "code",
   "execution_count": 26,
   "id": "7167d6fa",
   "metadata": {
    "execution": {
     "iopub.execute_input": "2024-10-28T10:50:57.302538Z",
     "iopub.status.busy": "2024-10-28T10:50:57.301604Z",
     "iopub.status.idle": "2024-10-28T10:50:57.328330Z",
     "shell.execute_reply": "2024-10-28T10:50:57.327276Z"
    },
    "papermill": {
     "duration": 0.035098,
     "end_time": "2024-10-28T10:50:57.330787",
     "exception": false,
     "start_time": "2024-10-28T10:50:57.295689",
     "status": "completed"
    },
    "tags": []
   },
   "outputs": [
    {
     "data": {
      "text/html": [
       "<h4>NAIVE QUERY PLAN</h4><p>run <b>LazyFrame.show_graph()</b> to see the optimized version</p><?xml version=\"1.0\" encoding=\"UTF-8\" standalone=\"no\"?>\n",
       "<!DOCTYPE svg PUBLIC \"-//W3C//DTD SVG 1.1//EN\"\n",
       " \"http://www.w3.org/Graphics/SVG/1.1/DTD/svg11.dtd\">\n",
       "<!-- Generated by graphviz version 13.1.2 (0)\n",
       " -->\n",
       "<!-- Title: polars_query Pages: 1 -->\n",
       "<svg width=\"3255pt\" height=\"753pt\"\n",
       " viewBox=\"0.00 0.00 3255.00 753.00\" xmlns=\"http://www.w3.org/2000/svg\" xmlns:xlink=\"http://www.w3.org/1999/xlink\">\n",
       "<g id=\"graph0\" class=\"graph\" transform=\"scale(1 1) rotate(0) translate(4 748.5)\">\n",
       "<title>polars_query</title>\n",
       "<polygon fill=\"white\" stroke=\"none\" points=\"-4,4 -4,-748.5 3250.62,-748.5 3250.62,4 -4,4\"/>\n",
       "<!-- p2 -->\n",
       "<g id=\"node1\" class=\"node\">\n",
       "<title>p2</title>\n",
       "<polygon fill=\"none\" stroke=\"black\" points=\"1460.12,-672.5 1105.88,-672.5 1105.88,-612.75 1460.12,-612.75 1460.12,-672.5\"/>\n",
       "<text xml:space=\"preserve\" text-anchor=\"middle\" x=\"1283\" y=\"-655.2\" font-family=\"Monospace\" font-size=\"14.00\">JOIN LEFT</text>\n",
       "<text xml:space=\"preserve\" text-anchor=\"middle\" x=\"1283\" y=\"-637.95\" font-family=\"Monospace\" font-size=\"14.00\">left: [col(&quot;date_id&quot;), col(&quot;symbol_id&quot;)];</text>\n",
       "<text xml:space=\"preserve\" text-anchor=\"middle\" x=\"1283\" y=\"-620.7\" font-family=\"Monospace\" font-size=\"14.00\">right: [col(&quot;date_id&quot;), col(&quot;symbol_id&quot;)]</text>\n",
       "</g>\n",
       "<!-- p1 -->\n",
       "<g id=\"node2\" class=\"node\">\n",
       "<title>p1</title>\n",
       "<polygon fill=\"none\" stroke=\"black\" points=\"1443.62,-744.5 1122.38,-744.5 1122.38,-708.5 1443.62,-708.5 1443.62,-744.5\"/>\n",
       "<text xml:space=\"preserve\" text-anchor=\"middle\" x=\"1283\" y=\"-721.83\" font-family=\"Monospace\" font-size=\"14.00\">FILTER BY [(col(&quot;date_id&quot;)) &gt; (1669)]</text>\n",
       "</g>\n",
       "<!-- p2&#45;&gt;p1 -->\n",
       "<g id=\"edge1\" class=\"edge\">\n",
       "<title>p2&#45;&gt;p1</title>\n",
       "<path fill=\"none\" stroke=\"black\" d=\"M1283,-672.72C1283,-680.66 1283,-689.24 1283,-697.14\"/>\n",
       "<polygon fill=\"black\" stroke=\"black\" points=\"1279.5,-696.9 1283,-706.9 1286.5,-696.9 1279.5,-696.9\"/>\n",
       "</g>\n",
       "<!-- p3 -->\n",
       "<g id=\"node3\" class=\"node\">\n",
       "<title>p3</title>\n",
       "<polygon fill=\"none\" stroke=\"black\" points=\"729.62,-564.88 408.38,-564.88 408.38,-528.88 729.62,-528.88 729.62,-564.88\"/>\n",
       "<text xml:space=\"preserve\" text-anchor=\"middle\" x=\"569\" y=\"-542.2\" font-family=\"Monospace\" font-size=\"14.00\">FILTER BY [(col(&quot;date_id&quot;)) &gt; (1100)]</text>\n",
       "</g>\n",
       "<!-- p3&#45;&gt;p2 -->\n",
       "<g id=\"edge2\" class=\"edge\">\n",
       "<title>p3&#45;&gt;p2</title>\n",
       "<path fill=\"none\" stroke=\"black\" d=\"M666.28,-565.36C689.73,-569.34 714.73,-573.38 738,-576.75 856.17,-593.87 989.23,-609.77 1094.3,-621.55\"/>\n",
       "<polygon fill=\"black\" stroke=\"black\" points=\"1093.84,-625.02 1104.17,-622.65 1094.62,-618.06 1093.84,-625.02\"/>\n",
       "</g>\n",
       "<!-- p4 -->\n",
       "<g id=\"node4\" class=\"node\">\n",
       "<title>p4</title>\n",
       "<polygon fill=\"none\" stroke=\"black\" points=\"902.88,-481 235.12,-481 235.12,-445 902.88,-445 902.88,-481\"/>\n",
       "<text xml:space=\"preserve\" text-anchor=\"middle\" x=\"569\" y=\"-458.32\" font-family=\"Monospace\" font-size=\"14.00\">WITH COLUMNS [[(col(&quot;responder_6&quot;)) * (2.0)].strict_cast(Int32).alias(&quot;label&quot;)]</text>\n",
       "</g>\n",
       "<!-- p4&#45;&gt;p3 -->\n",
       "<g id=\"edge3\" class=\"edge\">\n",
       "<title>p4&#45;&gt;p3</title>\n",
       "<path fill=\"none\" stroke=\"black\" d=\"M569,-481.36C569,-491.78 569,-505.3 569,-517.26\"/>\n",
       "<polygon fill=\"black\" stroke=\"black\" points=\"565.5,-517.02 569,-527.02 572.5,-517.02 565.5,-517.02\"/>\n",
       "</g>\n",
       "<!-- p5 -->\n",
       "<g id=\"node5\" class=\"node\">\n",
       "<title>p5</title>\n",
       "<polygon fill=\"none\" stroke=\"black\" points=\"605.88,-409 532.12,-409 532.12,-373 605.88,-373 605.88,-409\"/>\n",
       "<text xml:space=\"preserve\" text-anchor=\"middle\" x=\"569\" y=\"-386.32\" font-family=\"Monospace\" font-size=\"14.00\">π 94/94</text>\n",
       "</g>\n",
       "<!-- p5&#45;&gt;p4 -->\n",
       "<g id=\"edge4\" class=\"edge\">\n",
       "<title>p5&#45;&gt;p4</title>\n",
       "<path fill=\"none\" stroke=\"black\" d=\"M569,-409.3C569,-416.59 569,-425.27 569,-433.46\"/>\n",
       "<polygon fill=\"black\" stroke=\"black\" points=\"565.5,-433.38 569,-443.38 572.5,-433.38 565.5,-433.38\"/>\n",
       "</g>\n",
       "<!-- p6 -->\n",
       "<g id=\"node6\" class=\"node\">\n",
       "<title>p6</title>\n",
       "<polygon fill=\"none\" stroke=\"black\" points=\"1138,-337 0,-337 0,-294.5 1138,-294.5 1138,-337\"/>\n",
       "<text xml:space=\"preserve\" text-anchor=\"middle\" x=\"569\" y=\"-319.7\" font-family=\"Monospace\" font-size=\"14.00\">Parquet SCAN [../jane&#45;street&#45;real&#45;time&#45;market&#45;data&#45;forecasting_Dataset/train.parquet/partition_id=0/part&#45;0.parquet, ... 9 other sources]</text>\n",
       "<text xml:space=\"preserve\" text-anchor=\"middle\" x=\"569\" y=\"-302.45\" font-family=\"Monospace\" font-size=\"14.00\">π */93;</text>\n",
       "</g>\n",
       "<!-- p6&#45;&gt;p5 -->\n",
       "<g id=\"edge5\" class=\"edge\">\n",
       "<title>p6&#45;&gt;p5</title>\n",
       "<path fill=\"none\" stroke=\"black\" d=\"M569,-337.15C569,-344.66 569,-353.31 569,-361.41\"/>\n",
       "<polygon fill=\"black\" stroke=\"black\" points=\"565.5,-361.17 569,-371.17 572.5,-361.17 565.5,-361.17\"/>\n",
       "</g>\n",
       "<!-- p7 -->\n",
       "<g id=\"node7\" class=\"node\">\n",
       "<title>p7</title>\n",
       "<polygon fill=\"none\" stroke=\"black\" points=\"3246.62,-576.75 747.38,-576.75 747.38,-517 3246.62,-517 3246.62,-576.75\"/>\n",
       "<text xml:space=\"preserve\" text-anchor=\"middle\" x=\"1997\" y=\"-559.45\" font-family=\"Monospace\" font-size=\"14.00\">AGG [col(&quot;responder_0_lag_1&quot;).last(), col(&quot;responder_1_lag_1&quot;).last(), col(&quot;responder_2_lag_1&quot;).last(), col(&quot;responder_3_lag_1&quot;).last(), col(&quot;responder_4_lag_1&quot;).last(), col(&quot;responder_5_lag_1&quot;).last(), col(&quot;responder_6_lag_1&quot;).last(), col(&quot;responder_7_lag_1&quot;).last(), col(&quot;responder_8_lag_1&quot;).last()]</text>\n",
       "<text xml:space=\"preserve\" text-anchor=\"middle\" x=\"1997\" y=\"-542.2\" font-family=\"Monospace\" font-size=\"14.00\">BY</text>\n",
       "<text xml:space=\"preserve\" text-anchor=\"middle\" x=\"1997\" y=\"-524.95\" font-family=\"Monospace\" font-size=\"14.00\">[col(&quot;date_id&quot;), col(&quot;symbol_id&quot;)]</text>\n",
       "</g>\n",
       "<!-- p7&#45;&gt;p2 -->\n",
       "<g id=\"edge6\" class=\"edge\">\n",
       "<title>p7&#45;&gt;p2</title>\n",
       "<path fill=\"none\" stroke=\"black\" d=\"M1773.53,-577.22C1676.64,-589.94 1564.41,-604.68 1471.77,-616.84\"/>\n",
       "<polygon fill=\"black\" stroke=\"black\" points=\"1471.53,-613.34 1462.07,-618.11 1472.44,-620.28 1471.53,-613.34\"/>\n",
       "</g>\n",
       "<!-- p8 -->\n",
       "<g id=\"node8\" class=\"node\">\n",
       "<title>p8</title>\n",
       "<polygon fill=\"none\" stroke=\"black\" points=\"2165.88,-481 1828.12,-481 1828.12,-445 2165.88,-445 2165.88,-481\"/>\n",
       "<text xml:space=\"preserve\" text-anchor=\"middle\" x=\"1997\" y=\"-458.32\" font-family=\"Monospace\" font-size=\"14.00\">WITH COLUMNS [[(col(&quot;date_id&quot;)) + (1)]]</text>\n",
       "</g>\n",
       "<!-- p8&#45;&gt;p7 -->\n",
       "<g id=\"edge7\" class=\"edge\">\n",
       "<title>p8&#45;&gt;p7</title>\n",
       "<path fill=\"none\" stroke=\"black\" d=\"M1997,-481.36C1997,-488.4 1997,-496.84 1997,-505.27\"/>\n",
       "<polygon fill=\"black\" stroke=\"black\" points=\"1993.5,-505.1 1997,-515.1 2000.5,-505.1 1993.5,-505.1\"/>\n",
       "</g>\n",
       "<!-- p9 -->\n",
       "<g id=\"node9\" class=\"node\">\n",
       "<title>p9</title>\n",
       "<polygon fill=\"none\" stroke=\"black\" points=\"2033.88,-409 1960.12,-409 1960.12,-373 2033.88,-373 2033.88,-409\"/>\n",
       "<text xml:space=\"preserve\" text-anchor=\"middle\" x=\"1997\" y=\"-386.32\" font-family=\"Monospace\" font-size=\"14.00\">π 11/11</text>\n",
       "</g>\n",
       "<!-- p9&#45;&gt;p8 -->\n",
       "<g id=\"edge8\" class=\"edge\">\n",
       "<title>p9&#45;&gt;p8</title>\n",
       "<path fill=\"none\" stroke=\"black\" d=\"M1997,-409.3C1997,-416.59 1997,-425.27 1997,-433.46\"/>\n",
       "<polygon fill=\"black\" stroke=\"black\" points=\"1993.5,-433.38 1997,-443.38 2000.5,-433.38 1993.5,-433.38\"/>\n",
       "</g>\n",
       "<!-- p10 -->\n",
       "<g id=\"node10\" class=\"node\">\n",
       "<title>p10</title>\n",
       "<polygon fill=\"none\" stroke=\"black\" points=\"2033.88,-333.75 1960.12,-333.75 1960.12,-297.75 2033.88,-297.75 2033.88,-333.75\"/>\n",
       "<text xml:space=\"preserve\" text-anchor=\"middle\" x=\"1997\" y=\"-311.07\" font-family=\"Monospace\" font-size=\"14.00\">π 11/11</text>\n",
       "</g>\n",
       "<!-- p10&#45;&gt;p9 -->\n",
       "<g id=\"edge9\" class=\"edge\">\n",
       "<title>p10&#45;&gt;p9</title>\n",
       "<path fill=\"none\" stroke=\"black\" d=\"M1997,-334.11C1997,-342.17 1997,-351.97 1997,-361.1\"/>\n",
       "<polygon fill=\"black\" stroke=\"black\" points=\"1993.5,-361 1997,-371 2000.5,-361 1993.5,-361\"/>\n",
       "</g>\n",
       "<!-- p11 -->\n",
       "<g id=\"node11\" class=\"node\">\n",
       "<title>p11</title>\n",
       "<polygon fill=\"none\" stroke=\"black\" points=\"2157.62,-258.5 1836.38,-258.5 1836.38,-222.5 2157.62,-222.5 2157.62,-258.5\"/>\n",
       "<text xml:space=\"preserve\" text-anchor=\"middle\" x=\"1997\" y=\"-235.82\" font-family=\"Monospace\" font-size=\"14.00\">FILTER BY [(col(&quot;date_id&quot;)) &gt; (1100)]</text>\n",
       "</g>\n",
       "<!-- p11&#45;&gt;p10 -->\n",
       "<g id=\"edge10\" class=\"edge\">\n",
       "<title>p11&#45;&gt;p10</title>\n",
       "<path fill=\"none\" stroke=\"black\" d=\"M1997,-258.86C1997,-266.92 1997,-276.72 1997,-285.85\"/>\n",
       "<polygon fill=\"black\" stroke=\"black\" points=\"1993.5,-285.75 1997,-295.75 2000.5,-285.75 1993.5,-285.75\"/>\n",
       "</g>\n",
       "<!-- p12 -->\n",
       "<g id=\"node12\" class=\"node\">\n",
       "<title>p12</title>\n",
       "<polygon fill=\"none\" stroke=\"black\" points=\"2330.88,-186.5 1663.12,-186.5 1663.12,-150.5 2330.88,-150.5 2330.88,-186.5\"/>\n",
       "<text xml:space=\"preserve\" text-anchor=\"middle\" x=\"1997\" y=\"-163.82\" font-family=\"Monospace\" font-size=\"14.00\">WITH COLUMNS [[(col(&quot;responder_6&quot;)) * (2.0)].strict_cast(Int32).alias(&quot;label&quot;)]</text>\n",
       "</g>\n",
       "<!-- p12&#45;&gt;p11 -->\n",
       "<g id=\"edge11\" class=\"edge\">\n",
       "<title>p12&#45;&gt;p11</title>\n",
       "<path fill=\"none\" stroke=\"black\" d=\"M1997,-186.8C1997,-194.09 1997,-202.77 1997,-210.96\"/>\n",
       "<polygon fill=\"black\" stroke=\"black\" points=\"1993.5,-210.88 1997,-220.88 2000.5,-210.88 1993.5,-210.88\"/>\n",
       "</g>\n",
       "<!-- p13 -->\n",
       "<g id=\"node13\" class=\"node\">\n",
       "<title>p13</title>\n",
       "<polygon fill=\"none\" stroke=\"black\" points=\"2033.88,-114.5 1960.12,-114.5 1960.12,-78.5 2033.88,-78.5 2033.88,-114.5\"/>\n",
       "<text xml:space=\"preserve\" text-anchor=\"middle\" x=\"1997\" y=\"-91.83\" font-family=\"Monospace\" font-size=\"14.00\">π 94/94</text>\n",
       "</g>\n",
       "<!-- p13&#45;&gt;p12 -->\n",
       "<g id=\"edge12\" class=\"edge\">\n",
       "<title>p13&#45;&gt;p12</title>\n",
       "<path fill=\"none\" stroke=\"black\" d=\"M1997,-114.8C1997,-122.09 1997,-130.77 1997,-138.96\"/>\n",
       "<polygon fill=\"black\" stroke=\"black\" points=\"1993.5,-138.88 1997,-148.88 2000.5,-138.88 1993.5,-138.88\"/>\n",
       "</g>\n",
       "<!-- p14 -->\n",
       "<g id=\"node14\" class=\"node\">\n",
       "<title>p14</title>\n",
       "<polygon fill=\"none\" stroke=\"black\" points=\"2566,-42.5 1428,-42.5 1428,0 2566,0 2566,-42.5\"/>\n",
       "<text xml:space=\"preserve\" text-anchor=\"middle\" x=\"1997\" y=\"-25.2\" font-family=\"Monospace\" font-size=\"14.00\">Parquet SCAN [../jane&#45;street&#45;real&#45;time&#45;market&#45;data&#45;forecasting_Dataset/train.parquet/partition_id=0/part&#45;0.parquet, ... 9 other sources]</text>\n",
       "<text xml:space=\"preserve\" text-anchor=\"middle\" x=\"1997\" y=\"-7.95\" font-family=\"Monospace\" font-size=\"14.00\">π */93;</text>\n",
       "</g>\n",
       "<!-- p14&#45;&gt;p13 -->\n",
       "<g id=\"edge13\" class=\"edge\">\n",
       "<title>p14&#45;&gt;p13</title>\n",
       "<path fill=\"none\" stroke=\"black\" d=\"M1997,-42.65C1997,-50.16 1997,-58.81 1997,-66.91\"/>\n",
       "<polygon fill=\"black\" stroke=\"black\" points=\"1993.5,-66.67 1997,-76.67 2000.5,-66.67 1993.5,-66.67\"/>\n",
       "</g>\n",
       "</g>\n",
       "</svg>\n"
      ],
      "text/plain": [
       "<LazyFrame at 0x1751585F0>"
      ]
     },
     "execution_count": 26,
     "metadata": {},
     "output_type": "execute_result"
    }
   ],
   "source": [
    "validation_data"
   ]
  },
  {
   "cell_type": "markdown",
   "id": "81fe7c1e",
   "metadata": {
    "papermill": {
     "duration": 0.004758,
     "end_time": "2024-10-28T10:50:57.340849",
     "exception": false,
     "start_time": "2024-10-28T10:50:57.336091",
     "status": "completed"
    },
    "tags": []
   },
   "source": [
    "# Save data as parquets"
   ]
  },
  {
   "cell_type": "code",
   "execution_count": 29,
   "id": "6c7b24f5",
   "metadata": {
    "execution": {
     "iopub.execute_input": "2024-10-28T10:50:57.352891Z",
     "iopub.status.busy": "2024-10-28T10:50:57.352024Z",
     "iopub.status.idle": "2024-10-28T10:52:19.675611Z",
     "shell.execute_reply": "2024-10-28T10:52:19.674557Z"
    },
    "papermill": {
     "duration": 82.332599,
     "end_time": "2024-10-28T10:52:19.678428",
     "exception": false,
     "start_time": "2024-10-28T10:50:57.345829",
     "status": "completed"
    },
    "tags": []
   },
   "outputs": [],
   "source": [
    "training_data.collect().\\\n",
    "write_parquet(\n",
    "    f\"{DATA_PATH}/training.parquet\", partition_by = \"date_id\",\n",
    "    # f\"{DATA_PATH}/training_with_lags.parquet\", partition_by = \"date_id\",\n",
    ")"
   ]
  },
  {
   "cell_type": "code",
   "execution_count": 30,
   "id": "8dacc686",
   "metadata": {
    "execution": {
     "iopub.execute_input": "2024-10-28T10:52:19.691137Z",
     "iopub.status.busy": "2024-10-28T10:52:19.690690Z",
     "iopub.status.idle": "2024-10-28T10:53:09.731770Z",
     "shell.execute_reply": "2024-10-28T10:53:09.730583Z"
    },
    "papermill": {
     "duration": 50.050795,
     "end_time": "2024-10-28T10:53:09.735054",
     "exception": false,
     "start_time": "2024-10-28T10:52:19.684259",
     "status": "completed"
    },
    "tags": []
   },
   "outputs": [],
   "source": [
    "validation_data.collect().\\\n",
    "write_parquet(\n",
    "    f\"{DATA_PATH}/validation.parquet\", partition_by = \"date_id\",\n",
    ")"
   ]
  }
 ],
 "metadata": {
  "kaggle": {
   "accelerator": "none",
   "dataSources": [
    {
     "databundleVersionId": 9871156,
     "sourceId": 84493,
     "sourceType": "competition"
    }
   ],
   "dockerImageVersionId": 30786,
   "isGpuEnabled": false,
   "isInternetEnabled": true,
   "language": "python",
   "sourceType": "notebook"
  },
  "kernelspec": {
   "display_name": "AI",
   "language": "python",
   "name": "python3"
  },
  "language_info": {
   "codemirror_mode": {
    "name": "ipython",
    "version": 3
   },
   "file_extension": ".py",
   "mimetype": "text/x-python",
   "name": "python",
   "nbconvert_exporter": "python",
   "pygments_lexer": "ipython3",
   "version": "3.13.7"
  },
  "papermill": {
   "default_parameters": {},
   "duration": 144.544038,
   "end_time": "2024-10-28T10:53:12.391324",
   "environment_variables": {},
   "exception": null,
   "input_path": "__notebook__.ipynb",
   "output_path": "__notebook__.ipynb",
   "parameters": {},
   "start_time": "2024-10-28T10:50:47.847286",
   "version": "2.6.0"
  }
 },
 "nbformat": 4,
 "nbformat_minor": 5
}
